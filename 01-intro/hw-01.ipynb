{
 "cells": [
  {
   "cell_type": "markdown",
   "metadata": {},
   "source": [
    "!wget https://raw.githubusercontent.com/DataTalksClub/machine-learning-zoomcamp/refs/heads/master/cohorts/2024/01-intro/homework.md"
   ]
  },
  {
   "cell_type": "markdown",
   "metadata": {},
   "source": [
    "## Homework\n",
    "\n",
    "### Set up the environment\n",
    "\n",
    "You need to install Python, NumPy, Pandas, Matplotlib and Seaborn. For that, you can use the instructions from\n",
    "[06-environment.md](../../../01-intro/06-environment.md).\n",
    "\n",
    "### Q1. Pandas version\n",
    "\n",
    "What's the version of Pandas that you installed?\n",
    "\n",
    "You can get the version information using the `__version__` field:"
   ]
  },
  {
   "cell_type": "code",
   "execution_count": 14,
   "metadata": {},
   "outputs": [
    {
     "data": {
      "text/plain": [
       "'pandas version installed : 2.2.2'"
      ]
     },
     "execution_count": 14,
     "metadata": {},
     "output_type": "execute_result"
    }
   ],
   "source": [
    "import pandas as pd\n",
    "f'pandas version installed : { pd.__version__}'\n"
   ]
  },
  {
   "cell_type": "markdown",
   "metadata": {},
   "source": [
    "### Getting the data \n",
    "\n",
    "For this homework, we'll use the Laptops Price dataset. Download it from \n",
    "[here](https://raw.githubusercontent.com/alexeygrigorev/datasets/master/laptops.csv).\n"
   ]
  },
  {
   "cell_type": "markdown",
   "metadata": {},
   "source": [
    "!wget https://raw.githubusercontent.com/alexeygrigorev/datasets/master/laptops.csv"
   ]
  },
  {
   "cell_type": "markdown",
   "metadata": {},
   "source": [
    "### Q2. Records count\n",
    "\n",
    "How many records are in the dataset?"
   ]
  },
  {
   "cell_type": "code",
   "execution_count": 13,
   "metadata": {},
   "outputs": [
    {
     "data": {
      "text/plain": [
       "'number of records : 2160'"
      ]
     },
     "execution_count": 13,
     "metadata": {},
     "output_type": "execute_result"
    }
   ],
   "source": [
    "df = pd.read_csv('/workspaces/ml-zoomcamp/01-intro/laptops.csv')\n",
    "\n",
    "df.shape\n",
    "\n",
    "f\"number of records : {len(df)}\""
   ]
  },
  {
   "cell_type": "markdown",
   "metadata": {},
   "source": [
    "### Q3. Laptop brands\n",
    "\n",
    "How many laptop brands are presented in the dataset?\n",
    "\n",
    "- 12\n",
    "- 27\n",
    "- 28\n",
    "- 2160"
   ]
  },
  {
   "cell_type": "code",
   "execution_count": 27,
   "metadata": {},
   "outputs": [
    {
     "data": {
      "text/plain": [
       "'count of laptop brands: 27'"
      ]
     },
     "execution_count": 27,
     "metadata": {},
     "output_type": "execute_result"
    }
   ],
   "source": [
    "f'count of laptop brands: {len(df['Brand'].unique())}'"
   ]
  },
  {
   "cell_type": "markdown",
   "metadata": {},
   "source": [
    "### Q4. Missing values\n",
    "\n",
    "How many columns in the dataset have missing values?\n",
    "\n",
    "- 0\n",
    "- 1\n",
    "- 2\n",
    "- 3\n"
   ]
  },
  {
   "cell_type": "code",
   "execution_count": 29,
   "metadata": {},
   "outputs": [
    {
     "data": {
      "text/plain": [
       "Laptop             0\n",
       "Status             0\n",
       "Brand              0\n",
       "Model              0\n",
       "CPU                0\n",
       "RAM                0\n",
       "Storage            0\n",
       "Storage type      42\n",
       "GPU             1371\n",
       "Screen             4\n",
       "Touch              0\n",
       "Final Price        0\n",
       "dtype: int64"
      ]
     },
     "execution_count": 29,
     "metadata": {},
     "output_type": "execute_result"
    }
   ],
   "source": [
    "df.isnull().sum()\n",
    "\n",
    "# 2 columns have missing values"
   ]
  },
  {
   "cell_type": "markdown",
   "metadata": {},
   "source": [
    "### Q5. Maximum final price\n",
    "\n",
    "What's the maximum final price of Dell notebooks in the dataset?\n",
    "\n",
    "- 869\n",
    "- 3691\n",
    "- 3849\n",
    "- 3936"
   ]
  },
  {
   "cell_type": "code",
   "execution_count": 38,
   "metadata": {},
   "outputs": [
    {
     "name": "stdout",
     "output_type": "stream",
     "text": [
      "Maximum value for Dell: 3936.0\n"
     ]
    }
   ],
   "source": [
    "max_value_dell = df[df['Brand'] == 'Dell']['Final Price'].max()\n",
    "print(f\"Maximum value for Dell: {max_value_dell}\")\n"
   ]
  },
  {
   "cell_type": "markdown",
   "metadata": {},
   "source": [
    "### Q6. Median value of Screen\n",
    "\n",
    "1. Find the median value of `Screen` column in the dataset.\n",
    "2. Next, calculate the most frequent value of the same `Screen` column.\n",
    "3. Use `fillna` method to fill the missing values in `Screen` column with the most frequent value from the previous step.\n",
    "4. Now, calculate the median value of `Screen` once again.\n"
   ]
  },
  {
   "cell_type": "code",
   "execution_count": 42,
   "metadata": {},
   "outputs": [
    {
     "name": "stdout",
     "output_type": "stream",
     "text": [
      "Initial median value of Screen: 15.6\n",
      "Most frequent value of Screen: 15.6\n",
      "New median value of Screen after filling missing values: 15.6\n"
     ]
    }
   ],
   "source": [
    "import pandas as pd\n",
    "\n",
    "# 1. Find the median value of `Screen` column before filling NaN values\n",
    "initial_median = df['Screen'].median()\n",
    "print(\"Initial median value of Screen:\", initial_median)\n",
    "\n",
    "# 2. Find the most frequent value (mode) of `Screen`\n",
    "most_frequent_value = df['Screen'].mode()[0]\n",
    "print(\"Most frequent value of Screen:\", most_frequent_value)\n",
    "\n",
    "# 3. Fill missing values in `Screen` with the most frequent value\n",
    "df['Screen'] = df['Screen'].fillna(most_frequent_value)\n",
    "\n",
    "# 4. Recalculate the median value of `Screen` after filling NaN values\n",
    "new_median = df['Screen'].median()\n",
    "print(\"New median value of Screen after filling missing values:\", new_median)\n"
   ]
  },
  {
   "cell_type": "markdown",
   "metadata": {},
   "source": [
    "### Q7. Sum of weights\n",
    "\n",
    "1. Select all the \"Innjoo\" laptops from the dataset.\n",
    "2. Select only columns `RAM`, `Storage`, `Screen`.\n",
    "3. Get the underlying NumPy array. Let's call it `X`.\n",
    "4. Compute matrix-matrix multiplication between the transpose of `X` and `X`. To get the transpose, use `X.T`. Let's call the result `XTX`.\n",
    "5. Compute the inverse of `XTX`.\n",
    "6. Create an array `y` with values `[1100, 1300, 800, 900, 1000, 1100]`.\n",
    "7. Multiply the inverse of `XTX` with the transpose of `X`, and then multiply the result by `y`. Call the result `w`.\n",
    "8. What's the sum of all the elements of the result?\n",
    "\n",
    "> **Note**: You just implemented linear regression. We'll talk about it in the next lesson.\n",
    "\n",
    "\n",
    "- 0.43\n",
    "- 45.29\n",
    "- 45.58\n",
    "- 91.30\n"
   ]
  },
  {
   "cell_type": "code",
   "execution_count": 43,
   "metadata": {},
   "outputs": [
    {
     "name": "stdout",
     "output_type": "stream",
     "text": [
      "Sum of all elements in w: 91.2998806299555\n"
     ]
    }
   ],
   "source": [
    "import pandas as pd\n",
    "import numpy as np\n",
    "\n",
    "\n",
    "# 1. Select all the \"Innjoo\" laptops\n",
    "innjoo_laptops = df[df['Brand'] == 'Innjoo']\n",
    "\n",
    "# 2. Select only columns `RAM`, `Storage`, `Screen`\n",
    "selected_columns = innjoo_laptops[['RAM', 'Storage', 'Screen']]\n",
    "\n",
    "# 3. Get the underlying NumPy array (X)\n",
    "X = selected_columns.to_numpy()\n",
    "\n",
    "# 4. Compute matrix-matrix multiplication between the transpose of X and X (XTX)\n",
    "XTX = np.dot(X.T, X)\n",
    "\n",
    "# 5. Compute the inverse of XTX\n",
    "XTX_inv = np.linalg.inv(XTX)\n",
    "\n",
    "# 6. Create an array y with values [1100, 1300, 800, 900, 1000, 1100]\n",
    "y = np.array([1100, 1300, 800, 900, 1000, 1100])\n",
    "\n",
    "# 7. Multiply the inverse of XTX with the transpose of X, and then multiply by y to get w\n",
    "w = np.dot(np.dot(XTX_inv, X.T), y)\n",
    "\n",
    "# 8. Compute the sum of all elements of the result (w)\n",
    "sum_w = np.sum(w)\n",
    "\n",
    "print(\"Sum of all elements in w:\", sum_w)\n"
   ]
  }
 ],
 "metadata": {
  "kernelspec": {
   "display_name": "Python 3",
   "language": "python",
   "name": "python3"
  },
  "language_info": {
   "codemirror_mode": {
    "name": "ipython",
    "version": 3
   },
   "file_extension": ".py",
   "mimetype": "text/x-python",
   "name": "python",
   "nbconvert_exporter": "python",
   "pygments_lexer": "ipython3",
   "version": "3.12.1"
  }
 },
 "nbformat": 4,
 "nbformat_minor": 2
}
